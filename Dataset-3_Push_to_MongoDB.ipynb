{
 "cells": [
  {
   "cell_type": "markdown",
   "id": "dd962aa8",
   "metadata": {},
   "source": [
    "# Getting the Dataset-3 through API call"
   ]
  },
  {
   "cell_type": "code",
   "execution_count": 1,
   "id": "a2241ec6",
   "metadata": {},
   "outputs": [
    {
     "name": "stdout",
     "output_type": "stream",
     "text": [
      "Dataset 3 inserted in to MongoDb successfully\n"
     ]
    }
   ],
   "source": [
    "#import the libraries\n",
    "from sodapy import Socrata\n",
    "import pandas as pd\n",
    "from pymongo import MongoClient\n",
    "\n",
    "try:\n",
    "    # Connect to the Socrata API\n",
    "    client = Socrata(\"data.cityofnewyork.us\",\"V1l1F58oEE8H1XfoqElKC4EWG\")\n",
    "\n",
    "    # Fetch data from the API and convert to a pandas DataFrame\n",
    "    results = client.get(\"qgc5-ecnb\", limit=65219)\n",
    "    data = pd.DataFrame.from_records(results)\n",
    "\n",
    "    # Connecting to MongoDB\n",
    "    client = MongoClient('mongodb://localhost:27017/')\n",
    "    db = client['DAP_Project_DB']\n",
    "    collection = db['Menu_details']\n",
    "\n",
    "    # Inserting the data into the MongoDB collection\n",
    "    data_dict = data.to_dict(\"records\")\n",
    "    collection.insert_many(data_dict)\n",
    "    print(\"Dataset 3 inserted in to MongoDb successfully\")\n",
    "except Exception as e:\n",
    "    print(\"Error: \", e)"
   ]
  },
  {
   "cell_type": "code",
   "execution_count": null,
   "id": "3e29644b",
   "metadata": {},
   "outputs": [],
   "source": []
  }
 ],
 "metadata": {
  "kernelspec": {
   "display_name": "Python 3 (ipykernel)",
   "language": "python",
   "name": "python3"
  },
  "language_info": {
   "codemirror_mode": {
    "name": "ipython",
    "version": 3
   },
   "file_extension": ".py",
   "mimetype": "text/x-python",
   "name": "python",
   "nbconvert_exporter": "python",
   "pygments_lexer": "ipython3",
   "version": "3.9.13"
  }
 },
 "nbformat": 4,
 "nbformat_minor": 5
}
