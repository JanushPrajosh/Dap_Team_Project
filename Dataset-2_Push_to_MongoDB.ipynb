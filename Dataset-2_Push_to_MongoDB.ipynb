{
 "cells": [
  {
   "cell_type": "markdown",
   "id": "795efec2",
   "metadata": {},
   "source": [
    "# Getting the Dataset-2 through API call"
   ]
  },
  {
   "cell_type": "code",
   "execution_count": 11,
   "id": "add09f95",
   "metadata": {},
   "outputs": [
    {
     "name": "stdout",
     "output_type": "stream",
     "text": [
      "       county inspection_grade          inspection_date establishment_type  \\\n",
      "0      Albany                A  2022-04-18T00:00:00.000                  W   \n",
      "1      Albany                A  2023-02-01T00:00:00.000                 AC   \n",
      "2      Albany                A  2021-05-07T00:00:00.000                 AC   \n",
      "3      Albany                C  2023-01-03T00:00:00.000                 AC   \n",
      "4      Albany                C  2023-01-03T00:00:00.000                 AC   \n",
      "...       ...              ...                      ...                ...   \n",
      "97995  Monroe                C  2023-03-08T00:00:00.000                 AC   \n",
      "97996  Monroe                C  2023-03-08T00:00:00.000                 AC   \n",
      "97997  Monroe                A  2022-03-07T00:00:00.000                  A   \n",
      "97998  Monroe                A  2023-02-16T00:00:00.000                  A   \n",
      "97999  Monroe                A  2022-01-18T00:00:00.000                 AC   \n",
      "\n",
      "                       owner_name               trade_name             street  \\\n",
      "0      100 ACRE WOOD VINEYARD LLC      CLOVERPOND VINEYARD  100 MARIPOSA LANE   \n",
      "1                 1095 LOUDON INC      BOGHT CORNERS MOBIL   1095 LOUDON ROAD   \n",
      "2                 1095 LOUDON INC      BOGHT CORNERS MOBIL   1095 LOUDON ROAD   \n",
      "3                1250 SELKIRK INC             1250 SELKIRK  1250 RTE 9W & 396   \n",
      "4                1250 SELKIRK INC             1250 SELKIRK  1250 RTE 9W & 396   \n",
      "...                           ...                      ...                ...   \n",
      "97995            TAHIR MOHAMMAD A            KWIK WAY MART     150 BUFFALO RD   \n",
      "97996            TAHIR MOHAMMAD A            KWIK WAY MART     150 BUFFALO RD   \n",
      "97997       TAJ MAHAL GROCERY LLC  TAJ MAHAL GROCERY AND S   1742 LONGPOND RD   \n",
      "97998       TAJ MAHAL GROCERY LLC  TAJ MAHAL GROCERY AND S   1742 LONGPOND RD   \n",
      "97999       TANGO ENTERPRISES LLC                    TANGO     417 MONROE AVE   \n",
      "\n",
      "            city statecode zipcode  \\\n",
      "0       ALTAMONT        NY   12009   \n",
      "1         COHOES        NY   12047   \n",
      "2         COHOES        NY   12047   \n",
      "3        SELKIRK        NY   12158   \n",
      "4        SELKIRK        NY   12158   \n",
      "...          ...       ...     ...   \n",
      "97995  ROCHESTER        NY   14611   \n",
      "97996  ROCHESTER        NY   14611   \n",
      "97997  ROCHESTER        NY   14606   \n",
      "97998  ROCHESTER        NY   14606   \n",
      "97999  ROCHESTER        NY   14607   \n",
      "\n",
      "                                            georeference deficiency_number  \\\n",
      "0      {'type': 'Point', 'coordinates': [-73.96214, 4...               NaN   \n",
      "1      {'type': 'Point', 'coordinates': [-73.74413, 4...               NaN   \n",
      "2      {'type': 'Point', 'coordinates': [-73.74413, 4...               NaN   \n",
      "3      {'type': 'Point', 'coordinates': [-73.8073, 42...               12A   \n",
      "4      {'type': 'Point', 'coordinates': [-73.8073, 42...               09F   \n",
      "...                                                  ...               ...   \n",
      "97995  {'type': 'Point', 'coordinates': [-77.6544, 43...               15F   \n",
      "97996  {'type': 'Point', 'coordinates': [-77.6544, 43...               02A   \n",
      "97997  {'type': 'Point', 'coordinates': [-77.70157, 4...               NaN   \n",
      "97998  {'type': 'Point', 'coordinates': [-77.70157, 4...               NaN   \n",
      "97999  {'type': 'Point', 'coordinates': [-77.59532, 4...               NaN   \n",
      "\n",
      "                                  deficiency_description  \n",
      "0                                                    NaN  \n",
      "1                                                    NaN  \n",
      "2                                                    NaN  \n",
      "3      - Several deli meats stored in display cooler ...  \n",
      "4      - Steel wool ball above equipment wash sink in...  \n",
      "...                                                  ...  \n",
      "97995  - Multiple storage shelves are covered with so...  \n",
      "97996  -  Several single-serve packets of sweeteners ...  \n",
      "97997                                                NaN  \n",
      "97998                                                NaN  \n",
      "97999                                                NaN  \n",
      "\n",
      "[98000 rows x 13 columns]\n",
      "Dataset 2 inserted in to MongoDb successfully\n"
     ]
    }
   ],
   "source": [
    "#import the libraries\n",
    "from sodapy import Socrata\n",
    "import pandas as pd\n",
    "from pymongo import MongoClient\n",
    "\n",
    "try:\n",
    "    # Connect to the Socrata API\n",
    "    client = Socrata(\"data.ny.gov\",\"hBOnYmPv4fHBUIpA9O6WExHn7\")\n",
    "\n",
    "    # Fetch data from the API and convert to a pandas DataFrame\n",
    "    results = client.get(\"d6dy-3h7r\", limit=98000)\n",
    "    data = pd.DataFrame.from_records(results)\n",
    "    print(data)\n",
    "    # Connecting to MongoDB\n",
    "    client = MongoClient('mongodb://localhost:27017/')\n",
    "    db = client['DAP_Project_DB']\n",
    "    collection = db['NY_Restaurant_inspection']\n",
    "\n",
    "    # Inserting the data into the MongoDB collection\n",
    "    data_dict = data.to_dict(\"records\")\n",
    "    collection.insert_many(data_dict)\n",
    "    print(\"Dataset 2 inserted in to MongoDb successfully\")\n",
    "except Exception as e:\n",
    "    print(\"Error: \", e)"
   ]
  },
  {
   "cell_type": "code",
   "execution_count": null,
   "id": "2a147ddb",
   "metadata": {},
   "outputs": [],
   "source": []
  }
 ],
 "metadata": {
  "kernelspec": {
   "display_name": "Python 3 (ipykernel)",
   "language": "python",
   "name": "python3"
  },
  "language_info": {
   "codemirror_mode": {
    "name": "ipython",
    "version": 3
   },
   "file_extension": ".py",
   "mimetype": "text/x-python",
   "name": "python",
   "nbconvert_exporter": "python",
   "pygments_lexer": "ipython3",
   "version": "3.9.13"
  }
 },
 "nbformat": 4,
 "nbformat_minor": 5
}
