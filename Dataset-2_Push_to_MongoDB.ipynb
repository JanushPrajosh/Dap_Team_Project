{
 "cells": [
  {
   "cell_type": "markdown",
   "id": "795efec2",
   "metadata": {},
   "source": [
    "# Getting the Dataset-2 through API call"
   ]
  },
  {
   "cell_type": "code",
   "execution_count": 2,
   "id": "add09f95",
   "metadata": {},
   "outputs": [
    {
     "name": "stdout",
     "output_type": "stream",
     "text": [
      "Dataset 2 inserted in to MongoDb successfully\n"
     ]
    }
   ],
   "source": [
    "#import the libraries\n",
    "from sodapy import Socrata\n",
    "import pandas as pd\n",
    "from pymongo import MongoClient\n",
    "\n",
    "try:\n",
    "    # Connect to the Socrata API\n",
    "    client = Socrata(\"data.ny.gov\",\"V1l1F58oEE8H1XfoqElKC4EWG\")\n",
    "\n",
    "    # Fetch data from the API and convert to a pandas DataFrame\n",
    "    results = client.get(\"d6dy-3h7r\", limit=87882)\n",
    "    data = pd.DataFrame.from_records(results)\n",
    "\n",
    "    # Connecting to MongoDB\n",
    "    client = MongoClient('mongodb://localhost:27017/')\n",
    "    db = client['DAP_Project_DB']\n",
    "    collection = db['Restaurant_inspection']\n",
    "\n",
    "    # Inserting the data into the MongoDB collection\n",
    "    data_dict = data.to_dict(\"records\")\n",
    "    collection.insert_many(data_dict)\n",
    "    print(\"Dataset 2 inserted in to MongoDb successfully\")\n",
    "except Exception as e:\n",
    "    print(\"Error: \", e)"
   ]
  }
 ],
 "metadata": {
  "kernelspec": {
   "display_name": "Python 3 (ipykernel)",
   "language": "python",
   "name": "python3"
  },
  "language_info": {
   "codemirror_mode": {
    "name": "ipython",
    "version": 3
   },
   "file_extension": ".py",
   "mimetype": "text/x-python",
   "name": "python",
   "nbconvert_exporter": "python",
   "pygments_lexer": "ipython3",
   "version": "3.9.13"
  }
 },
 "nbformat": 4,
 "nbformat_minor": 5
}
